{
 "cells": [
  {
   "cell_type": "code",
   "execution_count": 28,
   "id": "0f81f0bd",
   "metadata": {},
   "outputs": [],
   "source": [
    "import os\n",
    "import numpy as np\n",
    "import pandas as pd\n",
    "import matplotlib.pyplot as plt\n",
    "from sklearn.preprocessing import StandardScaler\n",
    "import seaborn as sns\n",
    "\n",
    "from linearRegression import LinearRegression"
   ]
  },
  {
   "cell_type": "code",
   "execution_count": 29,
   "id": "2ec0abd6",
   "metadata": {},
   "outputs": [],
   "source": [
    "duong_dan = 'car_detail_en.csv'"
   ]
  },
  {
   "cell_type": "code",
   "execution_count": 30,
   "id": "c326de41",
   "metadata": {},
   "outputs": [],
   "source": [
    "df = pd.read_csv(duong_dan)"
   ]
  },
  {
   "cell_type": "code",
   "execution_count": 31,
   "id": "d432cb14",
   "metadata": {},
   "outputs": [
    {
     "name": "stdout",
     "output_type": "stream",
     "text": [
      "   ad_id             origin condition  car_model mileage exterior_color  \\\n",
      "0  17042  Domestic assembly   New car      Truck    0 Km          White   \n",
      "1  53794           Imported   New car        SUV    0 Km          Black   \n",
      "2  73954  Domestic assembly   New car  Crossover    0 Km         Silver   \n",
      "3  74150           Imported   New car        SUV    0 Km          White   \n",
      "4  87573  Domestic assembly   New car  Crossover    0 Km         Silver   \n",
      "\n",
      "  interior_color num_of_doors seating_capacity         engine  ...  \\\n",
      "0           gray       2-door           2-seat  Petrol\\t1.0 L  ...   \n",
      "1          Black       5-door           7-seat  Petrol\\t3.4 L  ...   \n",
      "2          Brown       5-door           8-seat  Petrol\\t2.0 L  ...   \n",
      "3          Black       5-door           5-seat  Petrol\\t1.8 L  ...   \n",
      "4           gray       5-door           8-seat  Petrol\\t2.0 L  ...   \n",
      "\n",
      "  transmission                 drive_type fuel_consumption  \\\n",
      "0       Manual     RFD - Rear-wheel drive          L/100Km   \n",
      "1    Automatic  AWD - 4-wheel drive (AWD)      10\\tL/100Km   \n",
      "2    Automatic     RFD - Rear-wheel drive          L/100Km   \n",
      "3    Automatic    FWD - Front-wheel drive          L/100Km   \n",
      "4    Automatic     RFD - Rear-wheel drive          L/100Km   \n",
      "\n",
      "                                            describe   brand  \\\n",
      "0   Super Carry Truck 5-pound mezzanine is equipp...  Suzuki   \n",
      "1  New Toyota LANDCRUISER 300, imported from Japa...  Toyota   \n",
      "2  **Registration fee support worth 15 million VN...  Toyota   \n",
      "3   2 interior colors: black, red brown - Car ava...  Toyota   \n",
      "4  Toyota Innova G 100% new Equipped with 2.0 eng...  Toyota   \n",
      "\n",
      "               grade year_of_manufacture  \\\n",
      "0  Super Carry Truck              2022.0   \n",
      "1       Land Cruiser              2022.0   \n",
      "2             Innova              2023.0   \n",
      "3      Corolla Cross              2023.0   \n",
      "4             Innova              2022.0   \n",
      "\n",
      "                               car_name           price. price  \\\n",
      "0  Suzuki Super Carry Truck 1.0 MT 2022            249 Million   \n",
      "1       Toyota Land Cruiser 3.5 V6 2022  4 Billion 286 Million   \n",
      "2       Toyota Innova G 2.0 AT 2023 car            885 Million   \n",
      "3        Toyota Corolla Cross 1.8G 2023            754 Million   \n",
      "4       Toyota Innova G 2.0 AT 2022 car            850 Million   \n",
      "\n",
      "                                                 url  \n",
      "0  https://bonbanh.com/xe-suzuki-super_carry_truc...  \n",
      "1  https://bonbanh.com/xe-toyota-land_cruiser-3.5...  \n",
      "2  https://bonbanh.com/xe-toyota-innova-g-2.0-at-...  \n",
      "3  https://bonbanh.com/xe-toyota-corolla_cross-1....  \n",
      "4  https://bonbanh.com/xe-toyota-innova-g-2.0-at-...  \n",
      "\n",
      "[5 rows x 21 columns]\n"
     ]
    }
   ],
   "source": [
    "print(df.head())"
   ]
  },
  {
   "cell_type": "code",
   "execution_count": 32,
   "id": "558368cb",
   "metadata": {},
   "outputs": [
    {
     "name": "stdout",
     "output_type": "stream",
     "text": [
      "30652\n"
     ]
    }
   ],
   "source": [
    "print(len(df))"
   ]
  },
  {
   "cell_type": "code",
   "execution_count": 33,
   "id": "ae216b35",
   "metadata": {},
   "outputs": [],
   "source": [
    "df_nodup = df.drop_duplicates()"
   ]
  },
  {
   "cell_type": "code",
   "execution_count": 34,
   "id": "dbfed4f8",
   "metadata": {},
   "outputs": [
    {
     "name": "stdout",
     "output_type": "stream",
     "text": [
      "30652\n"
     ]
    }
   ],
   "source": [
    "print(len(df_nodup))"
   ]
  },
  {
   "cell_type": "code",
   "execution_count": 35,
   "id": "e0ba02af",
   "metadata": {},
   "outputs": [],
   "source": [
    "def convert_to_numeric(value):\n",
    "    try:\n",
    "        if 'Billion' in value and not 'Million' in value:\n",
    "            return float(value.replace('Billion', '').replace(' ', '')) * 1e3\n",
    "        elif 'Million' in value and not 'Billion' in value:\n",
    "            return float(value.replace('Million', '').replace(' ', ''))\n",
    "        else:\n",
    "            return float(value.replace('Million', '').replace('Billion', '').replace(' ', ''))\n",
    "    except:\n",
    "        return None"
   ]
  },
  {
   "cell_type": "code",
   "execution_count": 36,
   "id": "3c43f25b",
   "metadata": {},
   "outputs": [],
   "source": [
    "df_nodup['price. price'] = df_nodup['price. price'].apply(convert_to_numeric)"
   ]
  },
  {
   "cell_type": "code",
   "execution_count": 37,
   "id": "95307d74",
   "metadata": {},
   "outputs": [],
   "source": [
    "def convert_km(mileage_str):\n",
    "  if not isinstance(mileage_str, str):\n",
    "    return None\n",
    "  try:\n",
    "    cleaned_str = mileage_str.replace(\" Km\", \"\").replace(\",\", \"\")\n",
    "    return float(cleaned_str)\n",
    "  except ValueError:\n",
    "    return None\n",
    "\n",
    "df_nodup[\"mileage\"] = df_nodup[\"mileage\"].apply(convert_km)"
   ]
  },
  {
   "cell_type": "code",
   "execution_count": 38,
   "id": "e4db9e1e",
   "metadata": {},
   "outputs": [],
   "source": [
    "def convert_door(value):\n",
    "    try:\n",
    "        return int(str(value).split('-')[0])\n",
    "    except (ValueError, AttributeError, IndexError):\n",
    "        return None\n",
    "df_nodup[\"num_of_doors\"] = df_nodup[\"num_of_doors\"].apply(convert_door)\n",
    "df_nodup = df_nodup.drop(columns=\"condition\", axis=1)"
   ]
  },
  {
   "cell_type": "code",
   "execution_count": 39,
   "id": "2338f4e6",
   "metadata": {},
   "outputs": [],
   "source": [
    "def convert_seating_capacity(value):\n",
    "    try:\n",
    "        return int(str(value).split('-')[0])\n",
    "    except (ValueError, AttributeError, IndexError):\n",
    "        return None\n",
    "\n",
    "df_nodup[\"seating_capacity\"] = df_nodup[\"seating_capacity\"].apply(convert_seating_capacity)"
   ]
  },
  {
   "cell_type": "code",
   "execution_count": 40,
   "id": "39c1ca01",
   "metadata": {},
   "outputs": [
    {
     "name": "stdout",
     "output_type": "stream",
     "text": [
      "     ad_id             origin           car_model  mileage exterior_color  \\\n",
      "1    53794           Imported                 SUV      0.0          Black   \n",
      "5    97011  Domestic assembly         Van/Minivan      0.0          White   \n",
      "8   142495  Domestic assembly  Bán tải / Pickup      0.0           Grey   \n",
      "9   143308  Domestic assembly  Bán tải / Pickup      0.0          Black   \n",
      "10  174951  Domestic assembly         Van/Minivan      0.0          White   \n",
      "\n",
      "   interior_color  num_of_doors  seating_capacity         engine  \\\n",
      "1           Black             5                 7  Petrol\\t3.4 L   \n",
      "5            gray             5                 2  Petrol\\t1.0 L   \n",
      "8           Black             4                 5  Diesel\\t2.2 L   \n",
      "9           Black             4                 5  Diesel\\t2.2 L   \n",
      "10          Cream             4                 7  Diesel\\t2.2 L   \n",
      "\n",
      "                   fuel_system transmission                    drive_type  \\\n",
      "1                          NaN    Automatic     AWD - 4-wheel drive (AWD)   \n",
      "5                          NaN       Manual        RFD - Rear-wheel drive   \n",
      "8   Single turbo oil injection    Automatic        RFD - Rear-wheel drive   \n",
      "9   Single turbo oil injection    Automatic  4WD - Four-wheel drive (4WD)   \n",
      "10                        TDCi       Manual        RFD - Rear-wheel drive   \n",
      "\n",
      "   fuel_consumption                                           describe  \\\n",
      "1       10\\tL/100Km  New Toyota LANDCRUISER 300, imported from Japa...   \n",
      "5        7\\tL/100Km  Suzuki Blind Van - BIG PROMOTION this month wi...   \n",
      "8        7\\tL/100Km  FORD RANGER - New 6-speed automatic transmissi...   \n",
      "9        7\\tL/100Km  FORD RANGER - 2 Bridges: Electric bridge engag...   \n",
      "10       9\\tL/100Km  FORD TRANSIT AMBULANCE Converted from a 16-sea...   \n",
      "\n",
      "     brand            grade  year_of_manufacture  \\\n",
      "1   Toyota     Land Cruiser               2022.0   \n",
      "5   Suzuki  Super Carry Van               2023.0   \n",
      "8     Ford           Ranger               2023.0   \n",
      "9     Ford           Ranger               2023.0   \n",
      "10    Ford          Transit               2023.0   \n",
      "\n",
      "                                 car_name  price. price  \\\n",
      "1         Toyota Land Cruiser 3.5 V6 2022        4286.0   \n",
      "5   Suzuki Super Carry Van Blind Van 2023         299.0   \n",
      "8        Ford Ranger XLS 2.0L 4x2 AT 2023         688.0   \n",
      "9        Ford Ranger XLT 2.0L 4x4 AT 2023         830.0   \n",
      "10            Ford Transit Ambulance 2023         940.0   \n",
      "\n",
      "                                                  url  \n",
      "1   https://bonbanh.com/xe-toyota-land_cruiser-3.5...  \n",
      "5   https://bonbanh.com/xe-suzuki-super_carry_van-...  \n",
      "8   https://bonbanh.com/xe-ford-ranger-xls-2.0l-4x...  \n",
      "9   https://bonbanh.com/xe-ford-ranger-xlt-2.0l-4x...  \n",
      "10  https://bonbanh.com/xe-ford-transit-cuu-thuong...  \n"
     ]
    }
   ],
   "source": [
    "df_nodup = df_nodup[df_nodup[\"fuel_consumption\"] != \"L/100Km\"]\n",
    "print(df_nodup.head())\n"
   ]
  },
  {
   "cell_type": "code",
   "execution_count": 41,
   "id": "f1d8d487",
   "metadata": {},
   "outputs": [
    {
     "data": {
      "text/html": [
       "<div>\n",
       "<style scoped>\n",
       "    .dataframe tbody tr th:only-of-type {\n",
       "        vertical-align: middle;\n",
       "    }\n",
       "\n",
       "    .dataframe tbody tr th {\n",
       "        vertical-align: top;\n",
       "    }\n",
       "\n",
       "    .dataframe thead th {\n",
       "        text-align: right;\n",
       "    }\n",
       "</style>\n",
       "<table border=\"1\" class=\"dataframe\">\n",
       "  <thead>\n",
       "    <tr style=\"text-align: right;\">\n",
       "      <th></th>\n",
       "      <th>origin</th>\n",
       "      <th>car_model</th>\n",
       "      <th>mileage</th>\n",
       "      <th>exterior_color</th>\n",
       "      <th>interior_color</th>\n",
       "      <th>num_of_doors</th>\n",
       "      <th>seating_capacity</th>\n",
       "      <th>engine</th>\n",
       "      <th>fuel_system</th>\n",
       "      <th>transmission</th>\n",
       "      <th>drive_type</th>\n",
       "      <th>fuel_consumption</th>\n",
       "      <th>grade</th>\n",
       "      <th>year_of_manufacture</th>\n",
       "      <th>car_name</th>\n",
       "      <th>price. price</th>\n",
       "    </tr>\n",
       "  </thead>\n",
       "  <tbody>\n",
       "    <tr>\n",
       "      <th>1</th>\n",
       "      <td>Imported</td>\n",
       "      <td>SUV</td>\n",
       "      <td>0.0</td>\n",
       "      <td>Black</td>\n",
       "      <td>Black</td>\n",
       "      <td>5</td>\n",
       "      <td>7</td>\n",
       "      <td>Petrol\\t3.4 L</td>\n",
       "      <td>NaN</td>\n",
       "      <td>Automatic</td>\n",
       "      <td>AWD - 4-wheel drive (AWD)</td>\n",
       "      <td>10\\tL/100Km</td>\n",
       "      <td>Land Cruiser</td>\n",
       "      <td>2022.0</td>\n",
       "      <td>Toyota Land Cruiser 3.5 V6 2022</td>\n",
       "      <td>4286.0</td>\n",
       "    </tr>\n",
       "    <tr>\n",
       "      <th>5</th>\n",
       "      <td>Domestic assembly</td>\n",
       "      <td>Van/Minivan</td>\n",
       "      <td>0.0</td>\n",
       "      <td>White</td>\n",
       "      <td>gray</td>\n",
       "      <td>5</td>\n",
       "      <td>2</td>\n",
       "      <td>Petrol\\t1.0 L</td>\n",
       "      <td>NaN</td>\n",
       "      <td>Manual</td>\n",
       "      <td>RFD - Rear-wheel drive</td>\n",
       "      <td>7\\tL/100Km</td>\n",
       "      <td>Super Carry Van</td>\n",
       "      <td>2023.0</td>\n",
       "      <td>Suzuki Super Carry Van Blind Van 2023</td>\n",
       "      <td>299.0</td>\n",
       "    </tr>\n",
       "    <tr>\n",
       "      <th>8</th>\n",
       "      <td>Domestic assembly</td>\n",
       "      <td>Bán tải / Pickup</td>\n",
       "      <td>0.0</td>\n",
       "      <td>Grey</td>\n",
       "      <td>Black</td>\n",
       "      <td>4</td>\n",
       "      <td>5</td>\n",
       "      <td>Diesel\\t2.2 L</td>\n",
       "      <td>Single turbo oil injection</td>\n",
       "      <td>Automatic</td>\n",
       "      <td>RFD - Rear-wheel drive</td>\n",
       "      <td>7\\tL/100Km</td>\n",
       "      <td>Ranger</td>\n",
       "      <td>2023.0</td>\n",
       "      <td>Ford Ranger XLS 2.0L 4x2 AT 2023</td>\n",
       "      <td>688.0</td>\n",
       "    </tr>\n",
       "    <tr>\n",
       "      <th>9</th>\n",
       "      <td>Domestic assembly</td>\n",
       "      <td>Bán tải / Pickup</td>\n",
       "      <td>0.0</td>\n",
       "      <td>Black</td>\n",
       "      <td>Black</td>\n",
       "      <td>4</td>\n",
       "      <td>5</td>\n",
       "      <td>Diesel\\t2.2 L</td>\n",
       "      <td>Single turbo oil injection</td>\n",
       "      <td>Automatic</td>\n",
       "      <td>4WD - Four-wheel drive (4WD)</td>\n",
       "      <td>7\\tL/100Km</td>\n",
       "      <td>Ranger</td>\n",
       "      <td>2023.0</td>\n",
       "      <td>Ford Ranger XLT 2.0L 4x4 AT 2023</td>\n",
       "      <td>830.0</td>\n",
       "    </tr>\n",
       "    <tr>\n",
       "      <th>10</th>\n",
       "      <td>Domestic assembly</td>\n",
       "      <td>Van/Minivan</td>\n",
       "      <td>0.0</td>\n",
       "      <td>White</td>\n",
       "      <td>Cream</td>\n",
       "      <td>4</td>\n",
       "      <td>7</td>\n",
       "      <td>Diesel\\t2.2 L</td>\n",
       "      <td>TDCi</td>\n",
       "      <td>Manual</td>\n",
       "      <td>RFD - Rear-wheel drive</td>\n",
       "      <td>9\\tL/100Km</td>\n",
       "      <td>Transit</td>\n",
       "      <td>2023.0</td>\n",
       "      <td>Ford Transit Ambulance 2023</td>\n",
       "      <td>940.0</td>\n",
       "    </tr>\n",
       "    <tr>\n",
       "      <th>...</th>\n",
       "      <td>...</td>\n",
       "      <td>...</td>\n",
       "      <td>...</td>\n",
       "      <td>...</td>\n",
       "      <td>...</td>\n",
       "      <td>...</td>\n",
       "      <td>...</td>\n",
       "      <td>...</td>\n",
       "      <td>...</td>\n",
       "      <td>...</td>\n",
       "      <td>...</td>\n",
       "      <td>...</td>\n",
       "      <td>...</td>\n",
       "      <td>...</td>\n",
       "      <td>...</td>\n",
       "      <td>...</td>\n",
       "    </tr>\n",
       "    <tr>\n",
       "      <th>30638</th>\n",
       "      <td>Imported</td>\n",
       "      <td>SUV</td>\n",
       "      <td>9.0</td>\n",
       "      <td>Black</td>\n",
       "      <td>Black</td>\n",
       "      <td>5</td>\n",
       "      <td>8</td>\n",
       "      <td>Diesel</td>\n",
       "      <td>Electronic</td>\n",
       "      <td>Automatic</td>\n",
       "      <td>4WD - Four-wheel drive (4WD)</td>\n",
       "      <td>6\\tL/100Km</td>\n",
       "      <td>Rexton</td>\n",
       "      <td>2006.0</td>\n",
       "      <td>Ssangyong Rexton 2.5 2006</td>\n",
       "      <td>195.0</td>\n",
       "    </tr>\n",
       "    <tr>\n",
       "      <th>30641</th>\n",
       "      <td>Domestic assembly</td>\n",
       "      <td>Crossover</td>\n",
       "      <td>75000.0</td>\n",
       "      <td>White</td>\n",
       "      <td>Grey</td>\n",
       "      <td>5</td>\n",
       "      <td>5</td>\n",
       "      <td>Petrol</td>\n",
       "      <td>NaN</td>\n",
       "      <td>Automatic</td>\n",
       "      <td>FWD - Front-wheel drive</td>\n",
       "      <td>7\\tL/100Km</td>\n",
       "      <td>EcoSport</td>\n",
       "      <td>2016.0</td>\n",
       "      <td>Ford EcoSport Titanium 2016</td>\n",
       "      <td>415.0</td>\n",
       "    </tr>\n",
       "    <tr>\n",
       "      <th>30642</th>\n",
       "      <td>Domestic assembly</td>\n",
       "      <td>Sedan</td>\n",
       "      <td>21000.0</td>\n",
       "      <td>Copper</td>\n",
       "      <td>Cream</td>\n",
       "      <td>4</td>\n",
       "      <td>5</td>\n",
       "      <td>Petrol</td>\n",
       "      <td>NaN</td>\n",
       "      <td>Automatic</td>\n",
       "      <td>FWD - Front-wheel drive</td>\n",
       "      <td>6\\tL/100Km</td>\n",
       "      <td>Vios</td>\n",
       "      <td>2018.0</td>\n",
       "      <td>Toyota Vios 1.5G 2018</td>\n",
       "      <td>430.0</td>\n",
       "    </tr>\n",
       "    <tr>\n",
       "      <th>30645</th>\n",
       "      <td>Domestic assembly</td>\n",
       "      <td>SUV</td>\n",
       "      <td>38000.0</td>\n",
       "      <td>White</td>\n",
       "      <td>Black</td>\n",
       "      <td>5</td>\n",
       "      <td>5</td>\n",
       "      <td>Petrol</td>\n",
       "      <td>NaN</td>\n",
       "      <td>Automatic</td>\n",
       "      <td>FWD - Front-wheel drive</td>\n",
       "      <td>6\\tL/100Km</td>\n",
       "      <td>i10</td>\n",
       "      <td>2021.0</td>\n",
       "      <td>Hyundai i10 1.2 AT 2021 car</td>\n",
       "      <td>395.0</td>\n",
       "    </tr>\n",
       "    <tr>\n",
       "      <th>30646</th>\n",
       "      <td>Domestic assembly</td>\n",
       "      <td>Sedan</td>\n",
       "      <td>67000.0</td>\n",
       "      <td>Black</td>\n",
       "      <td>Black</td>\n",
       "      <td>4</td>\n",
       "      <td>5</td>\n",
       "      <td>Petrol</td>\n",
       "      <td>Electronic fuel injection</td>\n",
       "      <td>Automatic</td>\n",
       "      <td>FWD - Front-wheel drive</td>\n",
       "      <td>7\\tL/100Km</td>\n",
       "      <td>Camry</td>\n",
       "      <td>2017.0</td>\n",
       "      <td>Toyota Camry 2.5Q 2017</td>\n",
       "      <td>740.0</td>\n",
       "    </tr>\n",
       "  </tbody>\n",
       "</table>\n",
       "<p>11437 rows × 16 columns</p>\n",
       "</div>"
      ],
      "text/plain": [
       "                  origin           car_model  mileage exterior_color  \\\n",
       "1               Imported                 SUV      0.0          Black   \n",
       "5      Domestic assembly         Van/Minivan      0.0          White   \n",
       "8      Domestic assembly  Bán tải / Pickup      0.0           Grey   \n",
       "9      Domestic assembly  Bán tải / Pickup      0.0          Black   \n",
       "10     Domestic assembly         Van/Minivan      0.0          White   \n",
       "...                  ...                 ...      ...            ...   \n",
       "30638           Imported                 SUV      9.0          Black   \n",
       "30641  Domestic assembly           Crossover  75000.0          White   \n",
       "30642  Domestic assembly               Sedan  21000.0         Copper   \n",
       "30645  Domestic assembly                 SUV  38000.0          White   \n",
       "30646  Domestic assembly               Sedan  67000.0          Black   \n",
       "\n",
       "      interior_color  num_of_doors  seating_capacity         engine  \\\n",
       "1              Black             5                 7  Petrol\\t3.4 L   \n",
       "5               gray             5                 2  Petrol\\t1.0 L   \n",
       "8              Black             4                 5  Diesel\\t2.2 L   \n",
       "9              Black             4                 5  Diesel\\t2.2 L   \n",
       "10             Cream             4                 7  Diesel\\t2.2 L   \n",
       "...              ...           ...               ...            ...   \n",
       "30638          Black             5                 8         Diesel   \n",
       "30641           Grey             5                 5         Petrol   \n",
       "30642          Cream             4                 5         Petrol   \n",
       "30645          Black             5                 5         Petrol   \n",
       "30646          Black             4                 5         Petrol   \n",
       "\n",
       "                      fuel_system transmission                    drive_type  \\\n",
       "1                             NaN    Automatic     AWD - 4-wheel drive (AWD)   \n",
       "5                             NaN       Manual        RFD - Rear-wheel drive   \n",
       "8      Single turbo oil injection    Automatic        RFD - Rear-wheel drive   \n",
       "9      Single turbo oil injection    Automatic  4WD - Four-wheel drive (4WD)   \n",
       "10                           TDCi       Manual        RFD - Rear-wheel drive   \n",
       "...                           ...          ...                           ...   \n",
       "30638                  Electronic    Automatic  4WD - Four-wheel drive (4WD)   \n",
       "30641                         NaN    Automatic       FWD - Front-wheel drive   \n",
       "30642                         NaN    Automatic       FWD - Front-wheel drive   \n",
       "30645                         NaN    Automatic       FWD - Front-wheel drive   \n",
       "30646   Electronic fuel injection    Automatic       FWD - Front-wheel drive   \n",
       "\n",
       "      fuel_consumption            grade  year_of_manufacture  \\\n",
       "1          10\\tL/100Km     Land Cruiser               2022.0   \n",
       "5           7\\tL/100Km  Super Carry Van               2023.0   \n",
       "8           7\\tL/100Km           Ranger               2023.0   \n",
       "9           7\\tL/100Km           Ranger               2023.0   \n",
       "10          9\\tL/100Km          Transit               2023.0   \n",
       "...                ...              ...                  ...   \n",
       "30638       6\\tL/100Km           Rexton               2006.0   \n",
       "30641       7\\tL/100Km         EcoSport               2016.0   \n",
       "30642       6\\tL/100Km             Vios               2018.0   \n",
       "30645       6\\tL/100Km              i10               2021.0   \n",
       "30646       7\\tL/100Km            Camry               2017.0   \n",
       "\n",
       "                                    car_name  price. price  \n",
       "1            Toyota Land Cruiser 3.5 V6 2022        4286.0  \n",
       "5      Suzuki Super Carry Van Blind Van 2023         299.0  \n",
       "8           Ford Ranger XLS 2.0L 4x2 AT 2023         688.0  \n",
       "9           Ford Ranger XLT 2.0L 4x4 AT 2023         830.0  \n",
       "10               Ford Transit Ambulance 2023         940.0  \n",
       "...                                      ...           ...  \n",
       "30638              Ssangyong Rexton 2.5 2006         195.0  \n",
       "30641            Ford EcoSport Titanium 2016         415.0  \n",
       "30642                  Toyota Vios 1.5G 2018         430.0  \n",
       "30645            Hyundai i10 1.2 AT 2021 car         395.0  \n",
       "30646                 Toyota Camry 2.5Q 2017         740.0  \n",
       "\n",
       "[11437 rows x 16 columns]"
      ]
     },
     "execution_count": 41,
     "metadata": {},
     "output_type": "execute_result"
    }
   ],
   "source": [
    "df_clearCols = df_nodup.drop(columns=['describe', 'brand', 'url', 'ad_id'])\n",
    "df_clearCols"
   ]
  },
  {
   "cell_type": "code",
   "execution_count": 42,
   "id": "4612be14",
   "metadata": {},
   "outputs": [
    {
     "data": {
      "text/plain": [
       "origin                    0\n",
       "car_model                 0\n",
       "mileage                   0\n",
       "exterior_color            0\n",
       "interior_color            0\n",
       "num_of_doors              0\n",
       "seating_capacity          0\n",
       "engine                    0\n",
       "fuel_system            5175\n",
       "transmission              0\n",
       "drive_type                0\n",
       "fuel_consumption          0\n",
       "grade                     0\n",
       "year_of_manufacture      18\n",
       "car_name                  0\n",
       "price. price             72\n",
       "dtype: int64"
      ]
     },
     "execution_count": 42,
     "metadata": {},
     "output_type": "execute_result"
    }
   ],
   "source": [
    "df_clearCols.isnull().sum()\n"
   ]
  },
  {
   "cell_type": "code",
   "execution_count": 43,
   "id": "ce3e2461",
   "metadata": {},
   "outputs": [],
   "source": [
    "df_noFuel = df_clearCols.drop(columns=['fuel_system'])"
   ]
  },
  {
   "cell_type": "code",
   "execution_count": 44,
   "id": "091eea87",
   "metadata": {},
   "outputs": [
    {
     "data": {
      "text/html": [
       "<div>\n",
       "<style scoped>\n",
       "    .dataframe tbody tr th:only-of-type {\n",
       "        vertical-align: middle;\n",
       "    }\n",
       "\n",
       "    .dataframe tbody tr th {\n",
       "        vertical-align: top;\n",
       "    }\n",
       "\n",
       "    .dataframe thead th {\n",
       "        text-align: right;\n",
       "    }\n",
       "</style>\n",
       "<table border=\"1\" class=\"dataframe\">\n",
       "  <thead>\n",
       "    <tr style=\"text-align: right;\">\n",
       "      <th></th>\n",
       "      <th>origin</th>\n",
       "      <th>car_model</th>\n",
       "      <th>mileage</th>\n",
       "      <th>exterior_color</th>\n",
       "      <th>interior_color</th>\n",
       "      <th>num_of_doors</th>\n",
       "      <th>seating_capacity</th>\n",
       "      <th>engine</th>\n",
       "      <th>transmission</th>\n",
       "      <th>drive_type</th>\n",
       "      <th>fuel_consumption</th>\n",
       "      <th>grade</th>\n",
       "      <th>year_of_manufacture</th>\n",
       "      <th>car_name</th>\n",
       "      <th>Price</th>\n",
       "    </tr>\n",
       "  </thead>\n",
       "  <tbody>\n",
       "    <tr>\n",
       "      <th>1</th>\n",
       "      <td>Imported</td>\n",
       "      <td>SUV</td>\n",
       "      <td>0.0</td>\n",
       "      <td>Black</td>\n",
       "      <td>Black</td>\n",
       "      <td>5</td>\n",
       "      <td>7</td>\n",
       "      <td>Petrol\\t3.4 L</td>\n",
       "      <td>Automatic</td>\n",
       "      <td>AWD - 4-wheel drive (AWD)</td>\n",
       "      <td>10\\tL/100Km</td>\n",
       "      <td>Land Cruiser</td>\n",
       "      <td>2022.0</td>\n",
       "      <td>Toyota Land Cruiser 3.5 V6 2022</td>\n",
       "      <td>4286.0</td>\n",
       "    </tr>\n",
       "    <tr>\n",
       "      <th>5</th>\n",
       "      <td>Domestic assembly</td>\n",
       "      <td>Van/Minivan</td>\n",
       "      <td>0.0</td>\n",
       "      <td>White</td>\n",
       "      <td>gray</td>\n",
       "      <td>5</td>\n",
       "      <td>2</td>\n",
       "      <td>Petrol\\t1.0 L</td>\n",
       "      <td>Manual</td>\n",
       "      <td>RFD - Rear-wheel drive</td>\n",
       "      <td>7\\tL/100Km</td>\n",
       "      <td>Super Carry Van</td>\n",
       "      <td>2023.0</td>\n",
       "      <td>Suzuki Super Carry Van Blind Van 2023</td>\n",
       "      <td>299.0</td>\n",
       "    </tr>\n",
       "    <tr>\n",
       "      <th>8</th>\n",
       "      <td>Domestic assembly</td>\n",
       "      <td>Bán tải / Pickup</td>\n",
       "      <td>0.0</td>\n",
       "      <td>Grey</td>\n",
       "      <td>Black</td>\n",
       "      <td>4</td>\n",
       "      <td>5</td>\n",
       "      <td>Diesel\\t2.2 L</td>\n",
       "      <td>Automatic</td>\n",
       "      <td>RFD - Rear-wheel drive</td>\n",
       "      <td>7\\tL/100Km</td>\n",
       "      <td>Ranger</td>\n",
       "      <td>2023.0</td>\n",
       "      <td>Ford Ranger XLS 2.0L 4x2 AT 2023</td>\n",
       "      <td>688.0</td>\n",
       "    </tr>\n",
       "    <tr>\n",
       "      <th>9</th>\n",
       "      <td>Domestic assembly</td>\n",
       "      <td>Bán tải / Pickup</td>\n",
       "      <td>0.0</td>\n",
       "      <td>Black</td>\n",
       "      <td>Black</td>\n",
       "      <td>4</td>\n",
       "      <td>5</td>\n",
       "      <td>Diesel\\t2.2 L</td>\n",
       "      <td>Automatic</td>\n",
       "      <td>4WD - Four-wheel drive (4WD)</td>\n",
       "      <td>7\\tL/100Km</td>\n",
       "      <td>Ranger</td>\n",
       "      <td>2023.0</td>\n",
       "      <td>Ford Ranger XLT 2.0L 4x4 AT 2023</td>\n",
       "      <td>830.0</td>\n",
       "    </tr>\n",
       "    <tr>\n",
       "      <th>10</th>\n",
       "      <td>Domestic assembly</td>\n",
       "      <td>Van/Minivan</td>\n",
       "      <td>0.0</td>\n",
       "      <td>White</td>\n",
       "      <td>Cream</td>\n",
       "      <td>4</td>\n",
       "      <td>7</td>\n",
       "      <td>Diesel\\t2.2 L</td>\n",
       "      <td>Manual</td>\n",
       "      <td>RFD - Rear-wheel drive</td>\n",
       "      <td>9\\tL/100Km</td>\n",
       "      <td>Transit</td>\n",
       "      <td>2023.0</td>\n",
       "      <td>Ford Transit Ambulance 2023</td>\n",
       "      <td>940.0</td>\n",
       "    </tr>\n",
       "    <tr>\n",
       "      <th>...</th>\n",
       "      <td>...</td>\n",
       "      <td>...</td>\n",
       "      <td>...</td>\n",
       "      <td>...</td>\n",
       "      <td>...</td>\n",
       "      <td>...</td>\n",
       "      <td>...</td>\n",
       "      <td>...</td>\n",
       "      <td>...</td>\n",
       "      <td>...</td>\n",
       "      <td>...</td>\n",
       "      <td>...</td>\n",
       "      <td>...</td>\n",
       "      <td>...</td>\n",
       "      <td>...</td>\n",
       "    </tr>\n",
       "    <tr>\n",
       "      <th>30638</th>\n",
       "      <td>Imported</td>\n",
       "      <td>SUV</td>\n",
       "      <td>9.0</td>\n",
       "      <td>Black</td>\n",
       "      <td>Black</td>\n",
       "      <td>5</td>\n",
       "      <td>8</td>\n",
       "      <td>Diesel</td>\n",
       "      <td>Automatic</td>\n",
       "      <td>4WD - Four-wheel drive (4WD)</td>\n",
       "      <td>6\\tL/100Km</td>\n",
       "      <td>Rexton</td>\n",
       "      <td>2006.0</td>\n",
       "      <td>Ssangyong Rexton 2.5 2006</td>\n",
       "      <td>195.0</td>\n",
       "    </tr>\n",
       "    <tr>\n",
       "      <th>30641</th>\n",
       "      <td>Domestic assembly</td>\n",
       "      <td>Crossover</td>\n",
       "      <td>75000.0</td>\n",
       "      <td>White</td>\n",
       "      <td>Grey</td>\n",
       "      <td>5</td>\n",
       "      <td>5</td>\n",
       "      <td>Petrol</td>\n",
       "      <td>Automatic</td>\n",
       "      <td>FWD - Front-wheel drive</td>\n",
       "      <td>7\\tL/100Km</td>\n",
       "      <td>EcoSport</td>\n",
       "      <td>2016.0</td>\n",
       "      <td>Ford EcoSport Titanium 2016</td>\n",
       "      <td>415.0</td>\n",
       "    </tr>\n",
       "    <tr>\n",
       "      <th>30642</th>\n",
       "      <td>Domestic assembly</td>\n",
       "      <td>Sedan</td>\n",
       "      <td>21000.0</td>\n",
       "      <td>Copper</td>\n",
       "      <td>Cream</td>\n",
       "      <td>4</td>\n",
       "      <td>5</td>\n",
       "      <td>Petrol</td>\n",
       "      <td>Automatic</td>\n",
       "      <td>FWD - Front-wheel drive</td>\n",
       "      <td>6\\tL/100Km</td>\n",
       "      <td>Vios</td>\n",
       "      <td>2018.0</td>\n",
       "      <td>Toyota Vios 1.5G 2018</td>\n",
       "      <td>430.0</td>\n",
       "    </tr>\n",
       "    <tr>\n",
       "      <th>30645</th>\n",
       "      <td>Domestic assembly</td>\n",
       "      <td>SUV</td>\n",
       "      <td>38000.0</td>\n",
       "      <td>White</td>\n",
       "      <td>Black</td>\n",
       "      <td>5</td>\n",
       "      <td>5</td>\n",
       "      <td>Petrol</td>\n",
       "      <td>Automatic</td>\n",
       "      <td>FWD - Front-wheel drive</td>\n",
       "      <td>6\\tL/100Km</td>\n",
       "      <td>i10</td>\n",
       "      <td>2021.0</td>\n",
       "      <td>Hyundai i10 1.2 AT 2021 car</td>\n",
       "      <td>395.0</td>\n",
       "    </tr>\n",
       "    <tr>\n",
       "      <th>30646</th>\n",
       "      <td>Domestic assembly</td>\n",
       "      <td>Sedan</td>\n",
       "      <td>67000.0</td>\n",
       "      <td>Black</td>\n",
       "      <td>Black</td>\n",
       "      <td>4</td>\n",
       "      <td>5</td>\n",
       "      <td>Petrol</td>\n",
       "      <td>Automatic</td>\n",
       "      <td>FWD - Front-wheel drive</td>\n",
       "      <td>7\\tL/100Km</td>\n",
       "      <td>Camry</td>\n",
       "      <td>2017.0</td>\n",
       "      <td>Toyota Camry 2.5Q 2017</td>\n",
       "      <td>740.0</td>\n",
       "    </tr>\n",
       "  </tbody>\n",
       "</table>\n",
       "<p>11437 rows × 15 columns</p>\n",
       "</div>"
      ],
      "text/plain": [
       "                  origin           car_model  mileage exterior_color  \\\n",
       "1               Imported                 SUV      0.0          Black   \n",
       "5      Domestic assembly         Van/Minivan      0.0          White   \n",
       "8      Domestic assembly  Bán tải / Pickup      0.0           Grey   \n",
       "9      Domestic assembly  Bán tải / Pickup      0.0          Black   \n",
       "10     Domestic assembly         Van/Minivan      0.0          White   \n",
       "...                  ...                 ...      ...            ...   \n",
       "30638           Imported                 SUV      9.0          Black   \n",
       "30641  Domestic assembly           Crossover  75000.0          White   \n",
       "30642  Domestic assembly               Sedan  21000.0         Copper   \n",
       "30645  Domestic assembly                 SUV  38000.0          White   \n",
       "30646  Domestic assembly               Sedan  67000.0          Black   \n",
       "\n",
       "      interior_color  num_of_doors  seating_capacity         engine  \\\n",
       "1              Black             5                 7  Petrol\\t3.4 L   \n",
       "5               gray             5                 2  Petrol\\t1.0 L   \n",
       "8              Black             4                 5  Diesel\\t2.2 L   \n",
       "9              Black             4                 5  Diesel\\t2.2 L   \n",
       "10             Cream             4                 7  Diesel\\t2.2 L   \n",
       "...              ...           ...               ...            ...   \n",
       "30638          Black             5                 8         Diesel   \n",
       "30641           Grey             5                 5         Petrol   \n",
       "30642          Cream             4                 5         Petrol   \n",
       "30645          Black             5                 5         Petrol   \n",
       "30646          Black             4                 5         Petrol   \n",
       "\n",
       "      transmission                    drive_type fuel_consumption  \\\n",
       "1        Automatic     AWD - 4-wheel drive (AWD)      10\\tL/100Km   \n",
       "5           Manual        RFD - Rear-wheel drive       7\\tL/100Km   \n",
       "8        Automatic        RFD - Rear-wheel drive       7\\tL/100Km   \n",
       "9        Automatic  4WD - Four-wheel drive (4WD)       7\\tL/100Km   \n",
       "10          Manual        RFD - Rear-wheel drive       9\\tL/100Km   \n",
       "...            ...                           ...              ...   \n",
       "30638    Automatic  4WD - Four-wheel drive (4WD)       6\\tL/100Km   \n",
       "30641    Automatic       FWD - Front-wheel drive       7\\tL/100Km   \n",
       "30642    Automatic       FWD - Front-wheel drive       6\\tL/100Km   \n",
       "30645    Automatic       FWD - Front-wheel drive       6\\tL/100Km   \n",
       "30646    Automatic       FWD - Front-wheel drive       7\\tL/100Km   \n",
       "\n",
       "                 grade  year_of_manufacture  \\\n",
       "1         Land Cruiser               2022.0   \n",
       "5      Super Carry Van               2023.0   \n",
       "8               Ranger               2023.0   \n",
       "9               Ranger               2023.0   \n",
       "10             Transit               2023.0   \n",
       "...                ...                  ...   \n",
       "30638           Rexton               2006.0   \n",
       "30641         EcoSport               2016.0   \n",
       "30642             Vios               2018.0   \n",
       "30645              i10               2021.0   \n",
       "30646            Camry               2017.0   \n",
       "\n",
       "                                    car_name   Price  \n",
       "1            Toyota Land Cruiser 3.5 V6 2022  4286.0  \n",
       "5      Suzuki Super Carry Van Blind Van 2023   299.0  \n",
       "8           Ford Ranger XLS 2.0L 4x2 AT 2023   688.0  \n",
       "9           Ford Ranger XLT 2.0L 4x4 AT 2023   830.0  \n",
       "10               Ford Transit Ambulance 2023   940.0  \n",
       "...                                      ...     ...  \n",
       "30638              Ssangyong Rexton 2.5 2006   195.0  \n",
       "30641            Ford EcoSport Titanium 2016   415.0  \n",
       "30642                  Toyota Vios 1.5G 2018   430.0  \n",
       "30645            Hyundai i10 1.2 AT 2021 car   395.0  \n",
       "30646                 Toyota Camry 2.5Q 2017   740.0  \n",
       "\n",
       "[11437 rows x 15 columns]"
      ]
     },
     "execution_count": 44,
     "metadata": {},
     "output_type": "execute_result"
    }
   ],
   "source": [
    "df_noFuel = df_noFuel.rename({\"price. price\": \"Price\"}, axis=1)\n",
    "df_noFuel"
   ]
  },
  {
   "cell_type": "code",
   "execution_count": 45,
   "id": "ba6ece32",
   "metadata": {},
   "outputs": [
    {
     "name": "stderr",
     "output_type": "stream",
     "text": [
      "C:\\Users\\Admin\\AppData\\Local\\Temp\\ipykernel_3496\\3311697470.py:1: UserWarning: \n",
      "\n",
      "`distplot` is a deprecated function and will be removed in seaborn v0.14.0.\n",
      "\n",
      "Please adapt your code to use either `displot` (a figure-level function with\n",
      "similar flexibility) or `histplot` (an axes-level function for histograms).\n",
      "\n",
      "For a guide to updating your code to use the new functions, please see\n",
      "https://gist.github.com/mwaskom/de44147ed2974457ad6372750bbe5751\n",
      "\n",
      "  sns.distplot(df_noFuel['Price'])\n"
     ]
    },
    {
     "data": {
      "text/plain": [
       "<Axes: xlabel='Price', ylabel='Density'>"
      ]
     },
     "execution_count": 45,
     "metadata": {},
     "output_type": "execute_result"
    },
    {
     "data": {
      "image/png": "[encoded data removed]",
      "text/plain": [
       "<Figure size 640x480 with 1 Axes>"
      ]
     },
     "metadata": {},
     "output_type": "display_data"
    }
   ],
   "source": [
    "sns.distplot(df_noFuel['Price'])"
   ]
  },
  {
   "cell_type": "code",
   "execution_count": 46,
   "id": "d9179ebd",
   "metadata": {},
   "outputs": [
    {
     "name": "stderr",
     "output_type": "stream",
     "text": [
      "C:\\Users\\Admin\\AppData\\Local\\Temp\\ipykernel_3496\\3345985692.py:2: UserWarning: \n",
      "\n",
      "`distplot` is a deprecated function and will be removed in seaborn v0.14.0.\n",
      "\n",
      "Please adapt your code to use either `displot` (a figure-level function with\n",
      "similar flexibility) or `histplot` (an axes-level function for histograms).\n",
      "\n",
      "For a guide to updating your code to use the new functions, please see\n",
      "https://gist.github.com/mwaskom/de44147ed2974457ad6372750bbe5751\n",
      "\n",
      "  sns.distplot(df1['Price'])\n"
     ]
    },
    {
     "data": {
      "text/plain": [
       "<Axes: xlabel='Price', ylabel='Density'>"
      ]
     },
     "execution_count": 46,
     "metadata": {},
     "output_type": "execute_result"
    },
    {
     "data": {
      "image/png": "[encoded data removed]",
      "text/plain": [
       "<Figure size 640x480 with 1 Axes>"
      ]
     },
     "metadata": {},
     "output_type": "display_data"
    }
   ],
   "source": [
    "\n",
    "df1 = df_noFuel[df_noFuel['Price'] < df_noFuel['Price'].quantile(0.98)]\n",
    "sns.distplot(df1['Price'])"
   ]
  },
  {
   "cell_type": "code",
   "execution_count": 47,
   "id": "2a4ff03f",
   "metadata": {},
   "outputs": [
    {
     "data": {
      "text/plain": [
       "1            0.0\n",
       "5            0.0\n",
       "8            0.0\n",
       "9            0.0\n",
       "10           0.0\n",
       "          ...   \n",
       "30638        9.0\n",
       "30641    75000.0\n",
       "30642    21000.0\n",
       "30645    38000.0\n",
       "30646    67000.0\n",
       "Name: mileage, Length: 11136, dtype: float64"
      ]
     },
     "execution_count": 47,
     "metadata": {},
     "output_type": "execute_result"
    }
   ],
   "source": [
    "df1[\"mileage\"]"
   ]
  },
  {
   "cell_type": "code",
   "execution_count": 48,
   "id": "b8c7816a",
   "metadata": {},
   "outputs": [
    {
     "name": "stderr",
     "output_type": "stream",
     "text": [
      "C:\\Users\\Admin\\AppData\\Local\\Temp\\ipykernel_3496\\349551231.py:2: UserWarning: \n",
      "\n",
      "`distplot` is a deprecated function and will be removed in seaborn v0.14.0.\n",
      "\n",
      "Please adapt your code to use either `displot` (a figure-level function with\n",
      "similar flexibility) or `histplot` (an axes-level function for histograms).\n",
      "\n",
      "For a guide to updating your code to use the new functions, please see\n",
      "https://gist.github.com/mwaskom/de44147ed2974457ad6372750bbe5751\n",
      "\n",
      "  sns.distplot(df1['mileage'])\n"
     ]
    },
    {
     "data": {
      "text/plain": [
       "<Axes: xlabel='mileage', ylabel='Density'>"
      ]
     },
     "execution_count": 48,
     "metadata": {},
     "output_type": "execute_result"
    },
    {
     "data": {
      "image/png": "[encoded data removed]",
      "text/plain": [
       "<Figure size 640x480 with 1 Axes>"
      ]
     },
     "metadata": {},
     "output_type": "display_data"
    }
   ],
   "source": [
    "df1 = df1[df1['mileage'] != 0]\n",
    "sns.distplot(df1['mileage'])"
   ]
  },
  {
   "cell_type": "code",
   "execution_count": 49,
   "id": "69ee1aa2",
   "metadata": {},
   "outputs": [
    {
     "name": "stdout",
     "output_type": "stream",
     "text": [
      "0\n"
     ]
    },
    {
     "name": "stderr",
     "output_type": "stream",
     "text": [
      "C:\\Users\\Admin\\AppData\\Local\\Temp\\ipykernel_3496\\3012501641.py:2: UserWarning: \n",
      "\n",
      "`distplot` is a deprecated function and will be removed in seaborn v0.14.0.\n",
      "\n",
      "Please adapt your code to use either `displot` (a figure-level function with\n",
      "similar flexibility) or `histplot` (an axes-level function for histograms).\n",
      "\n",
      "For a guide to updating your code to use the new functions, please see\n",
      "https://gist.github.com/mwaskom/de44147ed2974457ad6372750bbe5751\n",
      "\n",
      "  sns.distplot(df2['mileage'])\n"
     ]
    },
    {
     "data": {
      "image/png": "[encoded data removed]",
      "text/plain": [
       "<Figure size 640x480 with 1 Axes>"
      ]
     },
     "metadata": {},
     "output_type": "display_data"
    }
   ],
   "source": [
    "df2 = df1[df1['mileage'] < df1['mileage'].quantile(0.98)]\n",
    "sns.distplot(df2['mileage'])\n",
    "print(len(df2[df2['mileage']==0]))"
   ]
  },
  {
   "cell_type": "code",
   "execution_count": 50,
   "id": "adeea940",
   "metadata": {},
   "outputs": [
    {
     "name": "stderr",
     "output_type": "stream",
     "text": [
      "C:\\Users\\Admin\\AppData\\Local\\Temp\\ipykernel_3496\\1652347279.py:1: UserWarning: \n",
      "\n",
      "`distplot` is a deprecated function and will be removed in seaborn v0.14.0.\n",
      "\n",
      "Please adapt your code to use either `displot` (a figure-level function with\n",
      "similar flexibility) or `histplot` (an axes-level function for histograms).\n",
      "\n",
      "For a guide to updating your code to use the new functions, please see\n",
      "https://gist.github.com/mwaskom/de44147ed2974457ad6372750bbe5751\n",
      "\n",
      "  sns.distplot(df2['year_of_manufacture'])\n"
     ]
    },
    {
     "data": {
      "text/plain": [
       "<Axes: xlabel='year_of_manufacture', ylabel='Density'>"
      ]
     },
     "execution_count": 50,
     "metadata": {},
     "output_type": "execute_result"
    },
    {
     "data": {
      "image/png": "[encoded data removed]",
      "text/plain": [
       "<Figure size 640x480 with 1 Axes>"
      ]
     },
     "metadata": {},
     "output_type": "display_data"
    }
   ],
   "source": [
    "sns.distplot(df2['year_of_manufacture'])"
   ]
  },
  {
   "cell_type": "code",
   "execution_count": 51,
   "id": "a069c836",
   "metadata": {},
   "outputs": [
    {
     "name": "stderr",
     "output_type": "stream",
     "text": [
      "C:\\Users\\Admin\\AppData\\Local\\Temp\\ipykernel_3496\\967550348.py:2: UserWarning: \n",
      "\n",
      "`distplot` is a deprecated function and will be removed in seaborn v0.14.0.\n",
      "\n",
      "Please adapt your code to use either `displot` (a figure-level function with\n",
      "similar flexibility) or `histplot` (an axes-level function for histograms).\n",
      "\n",
      "For a guide to updating your code to use the new functions, please see\n",
      "https://gist.github.com/mwaskom/de44147ed2974457ad6372750bbe5751\n",
      "\n",
      "  sns.distplot(df3['year_of_manufacture'])\n"
     ]
    },
    {
     "data": {
      "text/plain": [
       "<Axes: xlabel='year_of_manufacture', ylabel='Density'>"
      ]
     },
     "execution_count": 51,
     "metadata": {},
     "output_type": "execute_result"
    },
    {
     "data": {
      "image/png": "[encoded data removed]",
      "text/plain": [
       "<Figure size 640x480 with 1 Axes>"
      ]
     },
     "metadata": {},
     "output_type": "display_data"
    }
   ],
   "source": [
    "df3 = df2[df2['year_of_manufacture'] > 2000]\n",
    "sns.distplot(df3['year_of_manufacture'])"
   ]
  },
  {
   "cell_type": "code",
   "execution_count": 52,
   "id": "760bbb54",
   "metadata": {},
   "outputs": [],
   "source": [
    "data_cleaned = df3.reset_index(drop=True)\n",
    "data_cleaned.to_csv('car_detail_cleaned.csv', index=False)  "
   ]
  },
  {
   "cell_type": "code",
   "execution_count": 53,
   "id": "0c569ac0",
   "metadata": {},
   "outputs": [
    {
     "data": {
      "text/plain": [
       "Index(['origin', 'car_model', 'mileage', 'exterior_color', 'interior_color',\n",
       "       'num_of_doors', 'seating_capacity', 'engine', 'transmission',\n",
       "       'drive_type', 'fuel_consumption', 'grade', 'year_of_manufacture',\n",
       "       'car_name', 'Price'],\n",
       "      dtype='object')"
      ]
     },
     "execution_count": 53,
     "metadata": {},
     "output_type": "execute_result"
    }
   ],
   "source": [
    "data_cleaned.columns"
   ]
  },
  {
   "cell_type": "code",
   "execution_count": 54,
   "id": "223820cd",
   "metadata": {},
   "outputs": [
    {
     "name": "stdout",
     "output_type": "stream",
     "text": [
      "['Sand' 'White' 'Silver' 'Black' 'Green' 'Red' 'Take note' 'Yellow'\n",
      " 'Brown' 'Grey' 'Orange' 'Pink' 'Cream' 'Copper' 'Violet'\n",
      " 'Different color' 'Colorful' '-']\n"
     ]
    }
   ],
   "source": [
    "print(data_cleaned['exterior_color'].unique())"
   ]
  },
  {
   "cell_type": "code",
   "execution_count": null,
   "id": "062d653e",
   "metadata": {},
   "outputs": [],
   "source": []
  }
 ],
 "metadata": {
  "kernelspec": {
   "display_name": "base",
   "language": "python",
   "name": "python3"
  },
  "language_info": {
   "codemirror_mode": {
    "name": "ipython",
    "version": 3
   },
   "file_extension": ".py",
   "mimetype": "text/x-python",
   "name": "python",
   "nbconvert_exporter": "python",
   "pygments_lexer": "ipython3",
   "version": "3.12.4"
  }
 },
 "nbformat": 4,
 "nbformat_minor": 5
}
